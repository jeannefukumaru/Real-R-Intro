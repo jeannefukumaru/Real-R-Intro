{
 "cells": [
  {
   "cell_type": "markdown",
   "metadata": {
    "slideshow": {
     "slide_type": "notes"
    }
   },
   "source": [
    "# Introduction to Sentiment Classifiers \n",
    "\n",
    "- using machine learning methods to pinpoint the sentiment of text\n",
    "- is this product review positive or negative? \n",
    "- is this customer email satisfied or disatisfied? \n",
    "- how are people reacting to our advertisement? \n",
    "- useful not only for sales - politics/ law making/ sociology/ psychology"
   ]
  },
  {
   "cell_type": "markdown",
   "metadata": {},
   "source": [
    "# Challenges \n",
    "\n",
    "- Sarcasm, irony, implication hard to define \n",
    "- change of tone in text \n",
    "- *\"This book was terrible, not because it was bad, but because it was so good: I couldn't put it down until I finished the final pages at 3 in the morning. Not a good thing, when your alarm goes off at 5:50 AM\"*"
   ]
  },
  {
   "cell_type": "markdown",
   "metadata": {
    "slideshow": {
     "slide_type": "slide"
    }
   },
   "source": [
    "# Introduction to Syuzhet\n",
    "\n",
    "- Four sentiment dictionaries \n",
    "- Created not only to analyse single sentences, but to explore narrative shifts in books and longer pieces of text \n",
    "- the following is adapted from Matthew Jockers Syuzhet vignette"
   ]
  },
  {
   "cell_type": "markdown",
   "metadata": {},
   "source": [
    "# Diving into an example \n",
    "\n",
    "We have a collection of book reviews that we have scraped from our product site. "
   ]
  },
  {
   "cell_type": "code",
   "execution_count": 5,
   "metadata": {
    "collapsed": false
   },
   "outputs": [],
   "source": [
    "library(syuzhet)\n",
    "book_reviews <- \"This book had me hooked for hours. \n",
    "    A light read. \n",
    "    This book was terrible, not because it was bad, but because it was so good. \n",
    "    I realized, too late to get my fifty cents back, that this is CHICK LIT.\n",
    "    The plot often felt contrived, as pieces fell together too nicely. \n",
    "    Wow, I'm really torn as to what to say about this book.\n",
    "    I began reading this book and fell in love with it. \n",
    "    Reading this book was like an up-hill battle for me.\n",
    "    This book was a game changer for me.\n",
    "    Damn if you aren't one of the most problematic things I've ever read.\n",
    "    Golden has hit pay dirt with this masterpiece.\n",
    "    I had my doubts about this book, but I'm happy to say I was wrong.\""
   ]
  },
  {
   "cell_type": "markdown",
   "metadata": {},
   "source": [
    "## get_sentences() \n",
    "- splits text into sentences and stores sentences in a vector"
   ]
  },
  {
   "cell_type": "code",
   "execution_count": 13,
   "metadata": {
    "collapsed": false
   },
   "outputs": [
    {
     "data": {
      "text/html": [
       "'character'"
      ],
      "text/latex": [
       "'character'"
      ],
      "text/markdown": [
       "'character'"
      ],
      "text/plain": [
       "[1] \"character\""
      ]
     },
     "metadata": {},
     "output_type": "display_data"
    }
   ],
   "source": [
    "sentences <- get_sentences(book_reviews)\n",
    "class(sentences)"
   ]
  },
  {
   "cell_type": "code",
   "execution_count": 16,
   "metadata": {
    "collapsed": false
   },
   "outputs": [
    {
     "data": {
      "text/html": [
       "<ol class=list-inline>\n",
       "\t<li>'This book had me hooked for hours.'</li>\n",
       "\t<li>'A light read.'</li>\n",
       "\t<li>'This book was terrible, not because it was bad, but because it was so good.'</li>\n",
       "</ol>\n"
      ],
      "text/latex": [
       "\\begin{enumerate*}\n",
       "\\item 'This book had me hooked for hours.'\n",
       "\\item 'A light read.'\n",
       "\\item 'This book was terrible, not because it was bad, but because it was so good.'\n",
       "\\end{enumerate*}\n"
      ],
      "text/markdown": [
       "1. 'This book had me hooked for hours.'\n",
       "2. 'A light read.'\n",
       "3. 'This book was terrible, not because it was bad, but because it was so good.'\n",
       "\n",
       "\n"
      ],
      "text/plain": [
       "[1] \"This book had me hooked for hours.\"                                         \n",
       "[2] \"A light read.\"                                                              \n",
       "[3] \"This book was terrible, not because it was bad, but because it was so good.\""
      ]
     },
     "metadata": {},
     "output_type": "display_data"
    }
   ],
   "source": [
    "sentences[1:3]"
   ]
  },
  {
   "cell_type": "markdown",
   "metadata": {},
   "source": [
    "## get_sentiment()\n",
    "\n",
    "- the get_sentiment function looks for the sentiment of each word or sentence. \n",
    "- The function takes two arguments: a character vector and a \"method\", which refers to which of the four sentiment dictionaries to use. The default is the \"syuzhet\" method. \n",
    "- Other methods are \"bing\", \"afinn\", \"nrc\" and \"stanford\" "
   ]
  },
  {
   "cell_type": "code",
   "execution_count": 18,
   "metadata": {
    "collapsed": false
   },
   "outputs": [
    {
     "data": {
      "text/html": [
       "<ol class=list-inline>\n",
       "\t<li>0</li>\n",
       "\t<li>0</li>\n",
       "\t<li>-0.75</li>\n",
       "\t<li>-0.25</li>\n",
       "\t<li>0.25</li>\n",
       "\t<li>0</li>\n",
       "\t<li>0.35</li>\n",
       "\t<li>0.1</li>\n",
       "\t<li>0</li>\n",
       "\t<li>-1.75</li>\n",
       "\t<li>0.5</li>\n",
       "\t<li>-0.5</li>\n",
       "</ol>\n"
      ],
      "text/latex": [
       "\\begin{enumerate*}\n",
       "\\item 0\n",
       "\\item 0\n",
       "\\item -0.75\n",
       "\\item -0.25\n",
       "\\item 0.25\n",
       "\\item 0\n",
       "\\item 0.35\n",
       "\\item 0.1\n",
       "\\item 0\n",
       "\\item -1.75\n",
       "\\item 0.5\n",
       "\\item -0.5\n",
       "\\end{enumerate*}\n"
      ],
      "text/markdown": [
       "1. 0\n",
       "2. 0\n",
       "3. -0.75\n",
       "4. -0.25\n",
       "5. 0.25\n",
       "6. 0\n",
       "7. 0.35\n",
       "8. 0.1\n",
       "9. 0\n",
       "10. -1.75\n",
       "11. 0.5\n",
       "12. -0.5\n",
       "\n",
       "\n"
      ],
      "text/plain": [
       " [1]  0.00  0.00 -0.75 -0.25  0.25  0.00  0.35  0.10  0.00 -1.75  0.50 -0.50"
      ]
     },
     "metadata": {},
     "output_type": "display_data"
    }
   ],
   "source": [
    "get_sentiment(sentences, method = \"syuzhet\")\n",
    "# each output value is an assessment of the sentiment in each sentence"
   ]
  },
  {
   "cell_type": "markdown",
   "metadata": {},
   "source": [
    "# Each method uses a slightly different scale"
   ]
  },
  {
   "cell_type": "code",
   "execution_count": 19,
   "metadata": {
    "collapsed": false
   },
   "outputs": [
    {
     "data": {
      "text/html": [
       "<ol class=list-inline>\n",
       "\t<li>0</li>\n",
       "\t<li>0</li>\n",
       "\t<li>-1</li>\n",
       "\t<li>0</li>\n",
       "\t<li>-2</li>\n",
       "\t<li>1</li>\n",
       "\t<li>0</li>\n",
       "\t<li>1</li>\n",
       "\t<li>0</li>\n",
       "\t<li>-2</li>\n",
       "\t<li>1</li>\n",
       "\t<li>-1</li>\n",
       "</ol>\n"
      ],
      "text/latex": [
       "\\begin{enumerate*}\n",
       "\\item 0\n",
       "\\item 0\n",
       "\\item -1\n",
       "\\item 0\n",
       "\\item -2\n",
       "\\item 1\n",
       "\\item 0\n",
       "\\item 1\n",
       "\\item 0\n",
       "\\item -2\n",
       "\\item 1\n",
       "\\item -1\n",
       "\\end{enumerate*}\n"
      ],
      "text/markdown": [
       "1. 0\n",
       "2. 0\n",
       "3. -1\n",
       "4. 0\n",
       "5. -2\n",
       "6. 1\n",
       "7. 0\n",
       "8. 1\n",
       "9. 0\n",
       "10. -2\n",
       "11. 1\n",
       "12. -1\n",
       "\n",
       "\n"
      ],
      "text/plain": [
       " [1]  0  0 -1  0 -2  1  0  1  0 -2  1 -1"
      ]
     },
     "metadata": {},
     "output_type": "display_data"
    }
   ],
   "source": [
    "get_sentiment(sentences, method = \"bing\")"
   ]
  },
  {
   "cell_type": "code",
   "execution_count": 21,
   "metadata": {
    "collapsed": false
   },
   "outputs": [
    {
     "data": {
      "text/html": [
       "<ol class=list-inline>\n",
       "\t<li>0</li>\n",
       "\t<li>0</li>\n",
       "\t<li>-3</li>\n",
       "\t<li>0</li>\n",
       "\t<li>0</li>\n",
       "\t<li>2</li>\n",
       "\t<li>3</li>\n",
       "\t<li>1</li>\n",
       "\t<li>0</li>\n",
       "\t<li>-4</li>\n",
       "\t<li>1</li>\n",
       "\t<li>0</li>\n",
       "</ol>\n"
      ],
      "text/latex": [
       "\\begin{enumerate*}\n",
       "\\item 0\n",
       "\\item 0\n",
       "\\item -3\n",
       "\\item 0\n",
       "\\item 0\n",
       "\\item 2\n",
       "\\item 3\n",
       "\\item 1\n",
       "\\item 0\n",
       "\\item -4\n",
       "\\item 1\n",
       "\\item 0\n",
       "\\end{enumerate*}\n"
      ],
      "text/markdown": [
       "1. 0\n",
       "2. 0\n",
       "3. -3\n",
       "4. 0\n",
       "5. 0\n",
       "6. 2\n",
       "7. 3\n",
       "8. 1\n",
       "9. 0\n",
       "10. -4\n",
       "11. 1\n",
       "12. 0\n",
       "\n",
       "\n"
      ],
      "text/plain": [
       " [1]  0  0 -3  0  0  2  3  1  0 -4  1  0"
      ]
     },
     "metadata": {},
     "output_type": "display_data"
    }
   ],
   "source": [
    "get_sentiment(sentences, method = \"afinn\")"
   ]
  },
  {
   "cell_type": "code",
   "execution_count": 22,
   "metadata": {
    "collapsed": false
   },
   "outputs": [
    {
     "data": {
      "text/html": [
       "<ol class=list-inline>\n",
       "\t<li>-1</li>\n",
       "\t<li>0</li>\n",
       "\t<li>-1</li>\n",
       "\t<li>-1</li>\n",
       "\t<li>-1</li>\n",
       "\t<li>-1</li>\n",
       "\t<li>1</li>\n",
       "\t<li>0</li>\n",
       "\t<li>0</li>\n",
       "\t<li>-1</li>\n",
       "\t<li>0</li>\n",
       "\t<li>0</li>\n",
       "</ol>\n"
      ],
      "text/latex": [
       "\\begin{enumerate*}\n",
       "\\item -1\n",
       "\\item 0\n",
       "\\item -1\n",
       "\\item -1\n",
       "\\item -1\n",
       "\\item -1\n",
       "\\item 1\n",
       "\\item 0\n",
       "\\item 0\n",
       "\\item -1\n",
       "\\item 0\n",
       "\\item 0\n",
       "\\end{enumerate*}\n"
      ],
      "text/markdown": [
       "1. -1\n",
       "2. 0\n",
       "3. -1\n",
       "4. -1\n",
       "5. -1\n",
       "6. -1\n",
       "7. 1\n",
       "8. 0\n",
       "9. 0\n",
       "10. -1\n",
       "11. 0\n",
       "12. 0\n",
       "\n",
       "\n"
      ],
      "text/plain": [
       " [1] -1  0 -1 -1 -1 -1  1  0  0 -1  0  0"
      ]
     },
     "metadata": {},
     "output_type": "display_data"
    }
   ],
   "source": [
    "get_sentiment(sentences, method = \"nrc\")"
   ]
  },
  {
   "cell_type": "markdown",
   "metadata": {},
   "source": [
    "# Short Exercise \n",
    "\n",
    "### -put a favourite quote into the get_sentiment( ) function"
   ]
  },
  {
   "cell_type": "code",
   "execution_count": 23,
   "metadata": {
    "collapsed": true
   },
   "outputs": [],
   "source": [
    "### your code goes here ###"
   ]
  },
  {
   "cell_type": "markdown",
   "metadata": {},
   "source": [
    "# For longer extracts, we can sum the values to get a measure of the overall feel to a review"
   ]
  },
  {
   "cell_type": "code",
   "execution_count": 26,
   "metadata": {
    "collapsed": true
   },
   "outputs": [],
   "source": [
    "review <- \"I think the reason I waited so long to read this series is because I just couldn't imagine myself enjoying reading about an eleven-year-old boy and his adventures at a school of wizardry. \n",
    "I thought it would be too juvenile for my taste. \n",
    "I was wrong, of course.\n",
    "I can honestly say that I loved every minute of this. \n",
    "It's a spectacular little romp with funny, courageous, and endearing characters that you can't help but love.\n",
    "It has talking chess pieces, singing hats, a giant three-headed dog named Fluffy, a hilarious giant with a dragon fetish, a master wizard that's just a little bit crazy, mail carrier owls, goblins running a bank, unicorns, centaurs(!), trolls . . . and probably much more that I'm forgetting.\"\n",
    "tokenized_review <- get_sentences(review)"
   ]
  },
  {
   "cell_type": "code",
   "execution_count": 27,
   "metadata": {
    "collapsed": false
   },
   "outputs": [
    {
     "data": {
      "text/html": [
       "<ol class=list-inline>\n",
       "\t<li>'I think the reason I waited so long to read this series is because I just couldn\\'t imagine myself enjoying reading about an eleven-year-old boy and his adventures at a school of wizardry.'</li>\n",
       "\t<li>'I thought it would be too juvenile for my taste.'</li>\n",
       "\t<li>'I was wrong, of course.'</li>\n",
       "\t<li>'I can honestly say that I loved every minute of this.'</li>\n",
       "\t<li>'It\\'s a spectacular little romp with funny, courageous, and endearing characters that you can't help but love.'</li>\n",
       "\t<li>'It has talking chess pieces, singing hats, a giant three-headed dog named Fluffy, a hilarious giant with a dragon fetish, a master wizard that\\'s just a little bit crazy, mail carrier owls, goblins running a bank, unicorns, centaurs(!),'</li>\n",
       "</ol>\n"
      ],
      "text/latex": [
       "\\begin{enumerate*}\n",
       "\\item 'I think the reason I waited so long to read this series is because I just couldn\\textbackslash{}'t imagine myself enjoying reading about an eleven-year-old boy and his adventures at a school of wizardry.'\n",
       "\\item 'I thought it would be too juvenile for my taste.'\n",
       "\\item 'I was wrong, of course.'\n",
       "\\item 'I can honestly say that I loved every minute of this.'\n",
       "\\item 'It\\textbackslash{}'s a spectacular little romp with funny, courageous, and endearing characters that you can't help but love.'\n",
       "\\item 'It has talking chess pieces, singing hats, a giant three-headed dog named Fluffy, a hilarious giant with a dragon fetish, a master wizard that\\textbackslash{}'s just a little bit crazy, mail carrier owls, goblins running a bank, unicorns, centaurs(!),'\n",
       "\\end{enumerate*}\n"
      ],
      "text/markdown": [
       "1. 'I think the reason I waited so long to read this series is because I just couldn\\'t imagine myself enjoying reading about an eleven-year-old boy and his adventures at a school of wizardry.'\n",
       "2. 'I thought it would be too juvenile for my taste.'\n",
       "3. 'I was wrong, of course.'\n",
       "4. 'I can honestly say that I loved every minute of this.'\n",
       "5. 'It\\'s a spectacular little romp with funny, courageous, and endearing characters that you can't help but love.'\n",
       "6. 'It has talking chess pieces, singing hats, a giant three-headed dog named Fluffy, a hilarious giant with a dragon fetish, a master wizard that\\'s just a little bit crazy, mail carrier owls, goblins running a bank, unicorns, centaurs(!),'\n",
       "\n",
       "\n"
      ],
      "text/plain": [
       "[1] \"I think the reason I waited so long to read this series is because I just couldn't imagine myself enjoying reading about an eleven-year-old boy and his adventures at a school of wizardry.\"                                                \n",
       "[2] \"I thought it would be too juvenile for my taste.\"                                                                                                                                                                                           \n",
       "[3] \"I was wrong, of course.\"                                                                                                                                                                                                                    \n",
       "[4] \"I can honestly say that I loved every minute of this.\"                                                                                                                                                                                      \n",
       "[5] \"It's a spectacular little romp with funny, courageous, and endearing characters that you can't help but love.\"                                                                                                                              \n",
       "[6] \"It has talking chess pieces, singing hats, a giant three-headed dog named Fluffy, a hilarious giant with a dragon fetish, a master wizard that's just a little bit crazy, mail carrier owls, goblins running a bank, unicorns, centaurs(!),\""
      ]
     },
     "metadata": {},
     "output_type": "display_data"
    }
   ],
   "source": [
    "head(tokenized_review)"
   ]
  },
  {
   "cell_type": "markdown",
   "metadata": {},
   "source": [
    "## A positive number. Looks like this is quite a positive review. "
   ]
  },
  {
   "cell_type": "code",
   "execution_count": 29,
   "metadata": {
    "collapsed": false
   },
   "outputs": [
    {
     "data": {
      "text/html": [
       "5"
      ],
      "text/latex": [
       "5"
      ],
      "text/markdown": [
       "5"
      ],
      "text/plain": [
       "[1] 5"
      ]
     },
     "metadata": {},
     "output_type": "display_data"
    }
   ],
   "source": [
    "sum(get_sentiment(tokenized_review, method = \"nrc\"))"
   ]
  },
  {
   "cell_type": "markdown",
   "metadata": {},
   "source": [
    "### Syuzhet can do more than classify sentences and short excerpts. It can also graph a story's narrative structure, plotting the emotional changes that occur through the text. While there have been some debate about how reliable this the algorithm is, it has been shown to be accurate on a number of literary texts.  "
   ]
  },
  {
   "cell_type": "code",
   "execution_count": 31,
   "metadata": {
    "collapsed": false
   },
   "outputs": [
    {
     "data": {
      "image/png": "[encoded data removed]",
      "text/plain": [
       "Plot with title “Harry Potter Plot”"
      ]
     },
     "metadata": {},
     "output_type": "display_data"
    }
   ],
   "source": [
    "story <- \"Poor Harry Potter. After his parents are killed, the lonely 10-year-old is living under the stairs in the detestable Dursley household. A mysterious letter arrives, inviting him to Hogwarts School of Witchcraft and Wizardry. Suddenly, some things start to make sense- why he is loathed by his relatives, all Muggles (non-magic people), why he has a lighting bolt scar on his forehead, and how his future might be better than his past. Harry is a celebrity at Hogwarts, the only person to escape the clutches of the evil Dark Lord--He-who-must-not-be-named, who killed his parents and left him the scar. In this book, Harry meets characters that stay throughout the series, stalwart friends Ron Weasley and Hermione Granger, enemy Draco Malfoy, Professor Severus Snape, Headmaster Albus Dumbledore, and Hagrid, the giant who loves animals.\"\n",
    "narrative <- get_sentences(story) \n",
    "narrative <- get_sentiment(narrative) \n",
    "plot(\n",
    "    narrative,\n",
    "    type = \"l\",\n",
    "    main = \"Harry Potter Plot\", \n",
    "    xlab = \"Narrative Time\",\n",
    "    ylab = \"Emotional Valence\")"
   ]
  },
  {
   "cell_type": "markdown",
   "metadata": {
    "slideshow": {
     "slide_type": "slide"
    }
   },
   "source": [
    "# Integrating Sentiment Analysis with Visualisations: How Characters Change in War and Peace \n",
    "\n",
    "This analysis was posted by Microsoft on their data science blog. Worth a look. \n",
    "\n",
    "### Table of characters and emotional changes throghout the book"
   ]
  },
  {
   "cell_type": "markdown",
   "metadata": {},
   "source": [
    "![alt text](warandpeacetable.png)"
   ]
  },
  {
   "cell_type": "markdown",
   "metadata": {},
   "source": [
    "### Visualise changes through a d3 heatmap \n",
    "\n",
    "![alt text](warandpeaced3.png)"
   ]
  }
 ],
 "metadata": {
  "celltoolbar": "Raw Cell Format",
  "kernelspec": {
   "display_name": "R 3.3",
   "language": "R",
   "name": "ir33"
  },
  "language_info": {
   "codemirror_mode": "r",
   "file_extension": ".r",
   "mimetype": "text/x-r-source",
   "name": "R",
   "pygments_lexer": "r",
   "version": "3.3.2"
  }
 },
 "nbformat": 4,
 "nbformat_minor": 2
}
