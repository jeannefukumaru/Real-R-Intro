{
 "cells": [
  {
   "cell_type": "markdown",
   "metadata": {},
   "source": [
    "# The Problem \n",
    "\n",
    "### Given the occurence of certain words in an email, for example \"viagra\", \"million dollars\" and \"get rich\", what is the probability that the email is spam?  \n",
    "\n",
    "### We can tackle this problem using the Naive Bayes Algorithm \n",
    "\n",
    "Thanks to RStudio Labs for the example. source: https://rstudio-pubs-static.s3.amazonaws.com/144238_29afd51da1bb46e1be952a190c772d27.html"
   ]
  },
  {
   "cell_type": "markdown",
   "metadata": {},
   "source": [
    "# The Naive Bayes Algorithm \n",
    "\n",
    "- Based on conditional probability - given predictor values x, what is the probability of y? \n",
    "- In our email example, given certain predictor words, what is the probability of the email being spam/not spam? \n",
    "- P(Y = spam | X = x)"
   ]
  },
  {
   "cell_type": "markdown",
   "metadata": {},
   "source": [
    "# A visual illustration \n",
    "\n",
    "- spam = orange and not spam = blue. The task of the Naive Bayes Classifier is to find a decision boundary separating the two classes \n",
    "![alt text](NB.png) \n",
    "\n"
   ]
  },
  {
   "cell_type": "markdown",
   "metadata": {},
   "source": [
    "# The Data \n",
    "\n",
    "Toy datasets are great for building an intuition of how an algorithm works. For this example, we will create our own toy dataset to play with "
   ]
  },
  {
   "cell_type": "code",
   "execution_count": 3,
   "metadata": {
    "collapsed": false
   },
   "outputs": [
    {
     "data": {
      "text/html": [
       "<table>\n",
       "<thead><tr><th scope=col>class</th><th scope=col>viagra</th></tr></thead>\n",
       "<tbody>\n",
       "\t<tr><td>spam    </td><td>yes     </td></tr>\n",
       "\t<tr><td>not spam</td><td>no      </td></tr>\n",
       "\t<tr><td>not spam</td><td>no      </td></tr>\n",
       "\t<tr><td>not spam</td><td>yes     </td></tr>\n",
       "</tbody>\n",
       "</table>\n"
      ],
      "text/latex": [
       "\\begin{tabular}{r|ll}\n",
       " class & viagra\\\\\n",
       "\\hline\n",
       "\t spam     & yes     \\\\\n",
       "\t not spam & no      \\\\\n",
       "\t not spam & no      \\\\\n",
       "\t not spam & yes     \\\\\n",
       "\\end{tabular}\n"
      ],
      "text/plain": [
       "  class    viagra\n",
       "1 spam     yes   \n",
       "2 not spam no    \n",
       "3 not spam no    \n",
       "4 not spam yes   "
      ]
     },
     "metadata": {},
     "output_type": "display_data"
    }
   ],
   "source": [
    "train <- data.frame(class=c(\"spam\",\"not spam\",\"not spam\",\"not spam\"), \n",
    "                    viagra=c(\"yes\",\"no\",\"no\",\"yes\"))\n",
    "train"
   ]
  },
  {
   "cell_type": "markdown",
   "metadata": {},
   "source": [
    "# Training Data "
   ]
  },
  {
   "cell_type": "code",
   "execution_count": 14,
   "metadata": {
    "collapsed": false
   },
   "outputs": [
    {
     "data": {
      "text/plain": [
       "\n",
       "Naive Bayes Classifier for Discrete Predictors\n",
       "\n",
       "Call:\n",
       "naiveBayes.default(x = X, y = Y, laplace = laplace)\n",
       "\n",
       "A-priori probabilities:\n",
       "Y\n",
       "not spam     spam \n",
       "    0.75     0.25 \n",
       "\n",
       "Conditional probabilities:\n",
       "          viagra\n",
       "Y                 no       yes\n",
       "  not spam 0.6666667 0.3333333\n",
       "  spam     0.0000000 1.0000000\n"
      ]
     },
     "metadata": {},
     "output_type": "display_data"
    }
   ],
   "source": [
    "library(e1071)\n",
    "NB <- naiveBayes(class ~ viagra, data = train)\n",
    "NB"
   ]
  },
  {
   "cell_type": "markdown",
   "metadata": {},
   "source": [
    "# Testing Data "
   ]
  },
  {
   "cell_type": "code",
   "execution_count": 16,
   "metadata": {
    "collapsed": false
   },
   "outputs": [
    {
     "data": {
      "text/html": [
       "<table>\n",
       "<thead><tr><th scope=col>viagra</th></tr></thead>\n",
       "<tbody>\n",
       "\t<tr><td>yes</td></tr>\n",
       "</tbody>\n",
       "</table>\n"
      ],
      "text/latex": [
       "\\begin{tabular}{r|l}\n",
       " viagra\\\\\n",
       "\\hline\n",
       "\t yes\\\\\n",
       "\\end{tabular}\n"
      ],
      "text/plain": [
       "  viagra\n",
       "1 yes   "
      ]
     },
     "metadata": {},
     "output_type": "display_data"
    }
   ],
   "source": [
    "test <- data.frame(viagra=c(\"yes\"))\n",
    "test$viagra <- factor(test$viagra, levels=c(\"no\",\"yes\"))\n",
    "test"
   ]
  },
  {
   "cell_type": "markdown",
   "metadata": {},
   "source": [
    "# Applying our predictive model to the test data "
   ]
  },
  {
   "cell_type": "code",
   "execution_count": 18,
   "metadata": {
    "collapsed": false
   },
   "outputs": [
    {
     "data": {
      "text/html": [
       "<table>\n",
       "<thead><tr><th scope=col>not spam</th><th scope=col>spam</th></tr></thead>\n",
       "<tbody>\n",
       "\t<tr><td>0.5</td><td>0.5</td></tr>\n",
       "</tbody>\n",
       "</table>\n"
      ],
      "text/latex": [
       "\\begin{tabular}{ll}\n",
       " not spam & spam\\\\\n",
       "\\hline\n",
       "\t 0.5 & 0.5\\\\\n",
       "\\end{tabular}\n"
      ],
      "text/markdown": [
       "1. 0.5\n",
       "2. 0.5\n",
       "\n",
       "\n"
      ],
      "text/plain": [
       "     not spam spam\n",
       "[1,] 0.5      0.5 "
      ]
     },
     "metadata": {},
     "output_type": "display_data"
    }
   ],
   "source": [
    "prediction <- predict(NB, test ,type=\"raw\")\n",
    "prediction"
   ]
  },
  {
   "cell_type": "markdown",
   "metadata": {},
   "source": [
    "# Question: Why is Naive Bayes naive? \n",
    "\n",
    "Let's investigate this question by considering two variables, \"meet\" and \"viagra\", instead of just \"viagra\"."
   ]
  },
  {
   "cell_type": "code",
   "execution_count": 19,
   "metadata": {
    "collapsed": false
   },
   "outputs": [
    {
     "data": {
      "text/html": [
       "<table>\n",
       "<thead><tr><th scope=col>type</th><th scope=col>viagra</th><th scope=col>meet</th></tr></thead>\n",
       "<tbody>\n",
       "\t<tr><td>spam</td><td>yes </td><td>yes </td></tr>\n",
       "\t<tr><td>ham </td><td>no  </td><td>yes </td></tr>\n",
       "\t<tr><td>ham </td><td>no  </td><td>yes </td></tr>\n",
       "\t<tr><td>ham </td><td>yes </td><td>no  </td></tr>\n",
       "</tbody>\n",
       "</table>\n"
      ],
      "text/latex": [
       "\\begin{tabular}{r|lll}\n",
       " type & viagra & meet\\\\\n",
       "\\hline\n",
       "\t spam & yes  & yes \\\\\n",
       "\t ham  & no   & yes \\\\\n",
       "\t ham  & no   & yes \\\\\n",
       "\t ham  & yes  & no  \\\\\n",
       "\\end{tabular}\n"
      ],
      "text/plain": [
       "  type viagra meet\n",
       "1 spam yes    yes \n",
       "2 ham  no     yes \n",
       "3 ham  no     yes \n",
       "4 ham  yes    no  "
      ]
     },
     "metadata": {},
     "output_type": "display_data"
    }
   ],
   "source": [
    "train <- data.frame(type=c(\"spam\",\"ham\",\"ham\",\"ham\"), \n",
    "                    viagra=c(\"yes\",\"no\",\"no\",\"yes\"),\n",
    "                    meet=c(\"yes\",\"yes\",\"yes\", \"no\"))\n",
    "train"
   ]
  },
  {
   "cell_type": "code",
   "execution_count": 21,
   "metadata": {
    "collapsed": false
   },
   "outputs": [
    {
     "data": {
      "text/plain": [
       "\n",
       "Naive Bayes Classifier for Discrete Predictors\n",
       "\n",
       "Call:\n",
       "naiveBayes.default(x = X, y = Y, laplace = laplace)\n",
       "\n",
       "A-priori probabilities:\n",
       "Y\n",
       " ham spam \n",
       "0.75 0.25 \n",
       "\n",
       "Conditional probabilities:\n",
       "      viagra\n",
       "Y             no       yes\n",
       "  ham  0.6666667 0.3333333\n",
       "  spam 0.0000000 1.0000000\n",
       "\n",
       "      meet\n",
       "Y             no       yes\n",
       "  ham  0.3333333 0.6666667\n",
       "  spam 0.0000000 1.0000000\n"
      ]
     },
     "metadata": {},
     "output_type": "display_data"
    }
   ],
   "source": [
    "# train a classifier \n",
    "NB2 <- naiveBayes(type ~ viagra + meet,train)\n",
    "NB2"
   ]
  },
  {
   "cell_type": "code",
   "execution_count": 23,
   "metadata": {
    "collapsed": false
   },
   "outputs": [
    {
     "data": {
      "text/html": [
       "<table>\n",
       "<thead><tr><th scope=col>viagra</th><th scope=col>meet</th></tr></thead>\n",
       "<tbody>\n",
       "\t<tr><td>yes</td><td>yes</td></tr>\n",
       "</tbody>\n",
       "</table>\n"
      ],
      "text/latex": [
       "\\begin{tabular}{r|ll}\n",
       " viagra & meet\\\\\n",
       "\\hline\n",
       "\t yes & yes\\\\\n",
       "\\end{tabular}\n"
      ],
      "text/plain": [
       "  viagra meet\n",
       "1 yes    yes "
      ]
     },
     "metadata": {},
     "output_type": "display_data"
    }
   ],
   "source": [
    "# Create test data  \n",
    "test <- data.frame(viagra=c(\"yes\"), meet=c(\"yes\"))\n",
    "test$viagra <- factor(test$viagra, levels=c(\"no\",\"yes\"))\n",
    "test$meet <- factor(test$meet, levels=c(\"no\",\"yes\"))\n",
    "test"
   ]
  },
  {
   "cell_type": "code",
   "execution_count": 24,
   "metadata": {
    "collapsed": false
   },
   "outputs": [
    {
     "data": {
      "text/html": [
       "<table>\n",
       "<thead><tr><th scope=col>ham</th><th scope=col>spam</th></tr></thead>\n",
       "<tbody>\n",
       "\t<tr><td>0.4</td><td>0.6</td></tr>\n",
       "</tbody>\n",
       "</table>\n"
      ],
      "text/latex": [
       "\\begin{tabular}{ll}\n",
       " ham & spam\\\\\n",
       "\\hline\n",
       "\t 0.4 & 0.6\\\\\n",
       "\\end{tabular}\n"
      ],
      "text/markdown": [
       "1. 0.4\n",
       "2. 0.6\n",
       "\n",
       "\n"
      ],
      "text/plain": [
       "     ham spam\n",
       "[1,] 0.4 0.6 "
      ]
     },
     "metadata": {},
     "output_type": "display_data"
    }
   ],
   "source": [
    "# Run our model on test data \n",
    "prediction <- predict(classifier, test ,type=\"raw\")\n",
    "prediction"
   ]
  },
  {
   "cell_type": "markdown",
   "metadata": {},
   "source": [
    "We see that the conditional probability of an email being spam, given the *meet* and the *viagra* variable is 0.6. However, if we were to compute the conditional probabilities by hand, we would find that the true conditional probability is 1. Our classifier is underestimating the true probability. \n",
    "\n",
    "**This is because Naive Bayes assumes that the \"probability that a message contains 'viagra' given that it is spam is independent of whether or not the message contains 'meet'\"**\n",
    "\n",
    "source:https://rstudio-pubs-static.s3.amazonaws.com/144238_29afd51da1bb46e1be952a190c772d27.html"
   ]
  },
  {
   "cell_type": "markdown",
   "metadata": {},
   "source": [
    "# Caveat: Naive Bayes assumes variables are independent \n",
    "\n",
    "- This is worth considering before implementing a Naive Bayes classifier "
   ]
  },
  {
   "cell_type": "markdown",
   "metadata": {},
   "source": [
    "# Create your own toy dataset and classifier  "
   ]
  },
  {
   "cell_type": "code",
   "execution_count": 25,
   "metadata": {
    "collapsed": true
   },
   "outputs": [],
   "source": [
    "## Your code goes here ## "
   ]
  }
 ],
 "metadata": {
  "kernelspec": {
   "display_name": "R 3.3",
   "language": "R",
   "name": "ir33"
  },
  "language_info": {
   "codemirror_mode": "r",
   "file_extension": ".r",
   "mimetype": "text/x-r-source",
   "name": "R",
   "pygments_lexer": "r",
   "version": "3.3.2"
  }
 },
 "nbformat": 4,
 "nbformat_minor": 2
}
